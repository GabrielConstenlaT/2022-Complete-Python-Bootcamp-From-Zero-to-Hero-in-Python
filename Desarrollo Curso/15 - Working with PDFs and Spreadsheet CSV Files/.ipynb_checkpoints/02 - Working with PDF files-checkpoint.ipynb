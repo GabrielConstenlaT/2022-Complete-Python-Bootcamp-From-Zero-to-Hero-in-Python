{
 "cells": [
  {
   "cell_type": "code",
   "execution_count": 2,
   "id": "228c8507",
   "metadata": {},
   "outputs": [],
   "source": [
    "import PyPDF2"
   ]
  },
  {
   "cell_type": "code",
   "execution_count": 3,
   "id": "ed79f24f",
   "metadata": {},
   "outputs": [],
   "source": [
    "f = open(\"Working_Business_Proposal.pdf\", \"rb\")"
   ]
  },
  {
   "cell_type": "code",
   "execution_count": 4,
   "id": "1e9183ad",
   "metadata": {},
   "outputs": [],
   "source": [
    "pdf_reader = PyPDF2.PdfFileReader(f)"
   ]
  },
  {
   "cell_type": "code",
   "execution_count": 5,
   "id": "9a38ea8b",
   "metadata": {},
   "outputs": [
    {
     "data": {
      "text/plain": [
       "5"
      ]
     },
     "execution_count": 5,
     "metadata": {},
     "output_type": "execute_result"
    }
   ],
   "source": [
    "pdf_reader.numPages"
   ]
  },
  {
   "cell_type": "code",
   "execution_count": 7,
   "id": "6b5c251c",
   "metadata": {},
   "outputs": [],
   "source": [
    "page_one = pdf_reader.getPage(0)"
   ]
  },
  {
   "cell_type": "code",
   "execution_count": 10,
   "id": "cefda395",
   "metadata": {},
   "outputs": [],
   "source": [
    "page_one_text = page_one.extractText()"
   ]
  },
  {
   "cell_type": "code",
   "execution_count": 11,
   "id": "37d057b6",
   "metadata": {},
   "outputs": [
    {
     "data": {
      "text/plain": [
       "'Business Proposal     The Revolution is Coming     Leverage  agile   frameworks   to   pr  ovide   a   r  obust   synopsis   for   high   level   overviews. Iterative  appr  oaches   to   corporate   strategy   foster   collaborative   thinking  to   fur  ther   the   overall   value   pr  oposition.   Organically   gr  ow   the   holistic  world   view   of   disruptive   innovation   via   workplace   diversity   and   empowerment. Bring  t  o   t  h  e   t  a  b  l  e   w  i  n  -  w  i  n   s  u  r  v  i  v  a  l   s  t  r  a  t  e  g  i  e  s   t  o   e  n  s  u  r  e   p  r  o  a  c  t  i  v  e   domination. At  the   end   of   the   day  ,   going   forwar  d,   a   new   nor  mal   that   has   evolved from generation X is on the runway heading towards a streamlined cloud  solution.   User   generated   content   in   r  eal-time   will   have   multiple   touchpoints for offshoring. Capitalize on low hanging fruit to identify a ballpark  value   added   activity   to   beta  test.   Override   the   digital   divide   with   additional   clickthr  oughs   fr  om   DevOps.  Nanotechnology   immersion   along   the   infor  mation   highway   will   close the loop on focusing solely on the bottom line. Podcasting  operational   change   management   inside   of   workﬂows   to   establish a framework. Taking seamless key performance indicators  of  ﬂine   to maximise the  long   tail.   Keeping   your   eye   on   the   ball   while   per  for  ming   a   deep  dive   on   the   star  t-up   mentality   to   derive   convergence   on   cr  oss-  platform integration. Collabor a  t  i  v  e  l  y   a  d  m  i  n  i  s  t  r  a  t  e   e  m  p  o  w  e  re  d   m  a  r  k  e  t  s   v  i  a   p  l  u  g  -  a  n  d  -  p  l  a  y   networks.  D  y  n  a  m  i  c  a  l  l  y   p  r  o  c  r  a  s  t  i  n  a  t  e   B  2  C   u  s  e  r  s   a  f  t  e  r   i  n  s  t  a  l  l  e  d   b  a  s  e   beneﬁts.  Dramatically   visualize   customer   dir  ected   convergence   without   revolutionary ROI. Efﬁciently  unleash   cr  oss-media   infor  mation   without   cr  oss-media   value.   Quickly maximize  timely   deliverables   for   r  eal-time   schemas.   Dramatically   maintain clicks-and-mortar solutions without functional solutions. BUSINESS PROPOSAL !   1'"
      ]
     },
     "execution_count": 11,
     "metadata": {},
     "output_type": "execute_result"
    }
   ],
   "source": [
    "page_one_text"
   ]
  },
  {
   "cell_type": "code",
   "execution_count": 12,
   "id": "8bbc367b",
   "metadata": {},
   "outputs": [],
   "source": [
    "f.close()"
   ]
  },
  {
   "cell_type": "code",
   "execution_count": 13,
   "id": "ad2dc939",
   "metadata": {},
   "outputs": [],
   "source": [
    "f = open(\"Working_Business_Proposal.pdf\", \"rb\")\n",
    "pdf_reader = PyPDF2.PdfFileReader(f)"
   ]
  },
  {
   "cell_type": "code",
   "execution_count": 14,
   "id": "3cb6d058",
   "metadata": {},
   "outputs": [],
   "source": [
    "first_page = pdf_reader.getPage(0)"
   ]
  },
  {
   "cell_type": "code",
   "execution_count": 15,
   "id": "f23c593d",
   "metadata": {},
   "outputs": [],
   "source": [
    "pdf_writer = PyPDF2.PdfFileWriter()"
   ]
  },
  {
   "cell_type": "code",
   "execution_count": 16,
   "id": "3cdecc67",
   "metadata": {},
   "outputs": [
    {
     "data": {
      "text/plain": [
       "PyPDF2._page.PageObject"
      ]
     },
     "execution_count": 16,
     "metadata": {},
     "output_type": "execute_result"
    }
   ],
   "source": [
    "type(first_page)"
   ]
  },
  {
   "cell_type": "code",
   "execution_count": 17,
   "id": "3f8158ea",
   "metadata": {},
   "outputs": [],
   "source": [
    "pdf_writer.addPage(first_page)"
   ]
  },
  {
   "cell_type": "code",
   "execution_count": 18,
   "id": "ee1c3a4a",
   "metadata": {},
   "outputs": [],
   "source": [
    "pdf_output = open(\"Some_BrandNew_Doc.pdf\", \"wb\")"
   ]
  },
  {
   "cell_type": "code",
   "execution_count": 19,
   "id": "40171b5a",
   "metadata": {},
   "outputs": [],
   "source": [
    "pdf_writer.write(pdf_output)"
   ]
  },
  {
   "cell_type": "code",
   "execution_count": 20,
   "id": "f435c9f0",
   "metadata": {},
   "outputs": [],
   "source": [
    "f.close()"
   ]
  },
  {
   "cell_type": "code",
   "execution_count": 21,
   "id": "24ddde02",
   "metadata": {},
   "outputs": [],
   "source": [
    "pdf_output.close()"
   ]
  },
  {
   "cell_type": "code",
   "execution_count": 22,
   "id": "dcdbf50c",
   "metadata": {},
   "outputs": [],
   "source": [
    "f = open(\"Working_Business_Proposal.pdf\", \"rb\")\n",
    "\n",
    "pdf_text = []\n",
    "\n",
    "pdf_reader = PyPDF2.PdfFileReader(f)\n",
    "\n",
    "for num in range(pdf_reader.numPages):\n",
    "    \n",
    "    page = pdf_reader.getPage(num)\n",
    "    \n",
    "    pdf_text.append(page.extractText())"
   ]
  },
  {
   "cell_type": "code",
   "execution_count": 25,
   "id": "788800f4",
   "metadata": {
    "scrolled": true
   },
   "outputs": [
    {
     "data": {
      "text/plain": [
       "['Business Proposal     The Revolution is Coming     Leverage  agile   frameworks   to   pr  ovide   a   r  obust   synopsis   for   high   level   overviews. Iterative  appr  oaches   to   corporate   strategy   foster   collaborative   thinking  to   fur  ther   the   overall   value   pr  oposition.   Organically   gr  ow   the   holistic  world   view   of   disruptive   innovation   via   workplace   diversity   and   empowerment. Bring  t  o   t  h  e   t  a  b  l  e   w  i  n  -  w  i  n   s  u  r  v  i  v  a  l   s  t  r  a  t  e  g  i  e  s   t  o   e  n  s  u  r  e   p  r  o  a  c  t  i  v  e   domination. At  the   end   of   the   day  ,   going   forwar  d,   a   new   nor  mal   that   has   evolved from generation X is on the runway heading towards a streamlined cloud  solution.   User   generated   content   in   r  eal-time   will   have   multiple   touchpoints for offshoring. Capitalize on low hanging fruit to identify a ballpark  value   added   activity   to   beta  test.   Override   the   digital   divide   with   additional   clickthr  oughs   fr  om   DevOps.  Nanotechnology   immersion   along   the   infor  mation   highway   will   close the loop on focusing solely on the bottom line. Podcasting  operational   change   management   inside   of   workﬂows   to   establish a framework. Taking seamless key performance indicators  of  ﬂine   to maximise the  long   tail.   Keeping   your   eye   on   the   ball   while   per  for  ming   a   deep  dive   on   the   star  t-up   mentality   to   derive   convergence   on   cr  oss-  platform integration. Collabor a  t  i  v  e  l  y   a  d  m  i  n  i  s  t  r  a  t  e   e  m  p  o  w  e  re  d   m  a  r  k  e  t  s   v  i  a   p  l  u  g  -  a  n  d  -  p  l  a  y   networks.  D  y  n  a  m  i  c  a  l  l  y   p  r  o  c  r  a  s  t  i  n  a  t  e   B  2  C   u  s  e  r  s   a  f  t  e  r   i  n  s  t  a  l  l  e  d   b  a  s  e   beneﬁts.  Dramatically   visualize   customer   dir  ected   convergence   without   revolutionary ROI. Efﬁciently  unleash   cr  oss-media   infor  mation   without   cr  oss-media   value.   Quickly maximize  timely   deliverables   for   r  eal-time   schemas.   Dramatically   maintain clicks-and-mortar solutions without functional solutions. BUSINESS PROPOSAL !   1',\n",
       " 'Completely  synergize   r  esour  ce   taxing   r  elationships   via   pr  emier   niche   markets. Professionally  cultivate   one-to-one   customer   service   with   r  obust   ideas. Dynamically innovate resource-leveling customer service for state of the art customer service. Objectively innovate  empower ed  manufactur  ed   pr  oducts   wher  eas   parallel   platforms. Holisticly predominate extensible  testing   pr  ocedur  es   for   r  eliable   supply  c  h  a  i  n  s  .   D  r  a  m  a  t  i  c  a  l  l  y   e  n  g  a  g  e   t  o  p  -  l  i  n  e   w  e  b   s  e  r  v  i  c  e  s   v  i  s  -  a  -  v  i  s   cutting-edge deliverables. Proactively  envisioned   multimedia   based   exper  tise   and   cr  oss-media   growth strategies.  Seamlessly   visualize   quality   intellectual   capital   without   superior  collaboration   and   idea-sharing.   Holistically   pontiﬁcate   installed   base portals after maintainable products. Phosﬂuorescently  engage   worldwide   methodologies   with   web-enabled   technology.  Interactively   coor  dinate   pr  oactive   e-commer  ce   via   pr  ocess-  centric  \"outside   the   box\"   thinking.   Completely   pursue   scalable   customer   service through sustainable potentialities. Collaboratively  administrate   tur  nkey   channels   wher  eas   vir  tual   e-tailers.   Objec t  i  v  e  l  y   s  e  i  z  e   s  c  a  l  a  b  l  e   m  e  t  r  i  c  s   w  h  e  r  e  a  s   p  r  o  a  c  t  i  v  e   e  -  s  e  r  v  i  c  e  s  .   Seamlessly empower fully  r esearched  gr owth  strategies   and   inter  operable   internal or \"organic\" sources. Credibly  innovate   granular   inter  nal   or   \"organic\"   sour  ces   wher  eas   high   standard s   i  n   w  e  b  -  r  e  a  d  i  n  e  s  s  .   E  n  e  r  g  i  s  t  i  c  a  l  l  y   s  c  a  l  e   f  u  t  u  r  e  -  p  r  o  o  f   c  o  r  e   competencies  vis-a-vis   impactful   experiences.   Dramatically   synthesize   integrated schemas with optimal networks. Inte r  a  c  t  i  v  e  l  y   p  r  o  c  r  a  s  t  i  n  a  t  e   h  i  g  h  -  p  a  y  o  f  f   c  o  n  t  e  n  t   w  i  t  h  o  u  t   b  a  c  k  w  a  r  d  -  compatible  d  a  t  a  .   Q  u  i  c  k  l  y   c  u  l  t  i  v  a  t  e   o  p  t  i  m  a  l   p  r  o  c  e  s  s  e  s   a  n  d   t  a  c  t  i  c  a  l   architectures.  Completely   iterate   covalent   strategic   theme   ar  eas   via   accurate e-markets. Globally incubate  standar ds  compliant   channels   befor  e   scalable   beneﬁts.   Quic k  l  y   d  i  s  s  e  m  i  n  a  t  e   s  u  p  e  r  i  o  r   d  e  l  i  v  e  r  a  b  l  e  s   w  h  e  r  e  a  s   w  e  b  -  e  n  a  b  l  e  d   BUSINESS PROPOSAL !   2',\n",
       " 'applications.  Quickly   drive   clicks-and-mor  tar   catalysts   for   change   befor  e   vertical architectures. Credibly  r  e  i  n  t  e  r  m  e  d  i  a  t  e   b  a  c  k  e  n  d   i  d  e  a  s   f  o  r   c  r  o  s  s  -  p  l  a  t  f  o  r  m   m  o  d  e  l  s  .   Continually reintermediate integrated processes through technically sound intellectual  capital.   Holistically   foster   superior   methodologies   without   market-driven best practices. Distinctively  exploit   optimal   alignments   for   intuitive   bandwidth.   Quickly   coordinate  e-business   applications   thr  ough   r  evolutionar  y   catalysts   for   change.  Seamlessly   underwhelm   optimal   testing   pr  ocedur  es   wher  eas   bricks-and-clicks processes. Synergistically  evolve   2.0   technologies   rather   than   just   in   time   initiatives.   Quickly  deploy   strategic   networks   with   compelling   e-business.   Cr  edibly   pontiﬁcate highly efﬁcient manufactured products and enabled data. Dynami c  a  l  l  y   t  a  r  g  e  t   h  i  g  h  -  p  a  y  o  f  f   i  n  t  e  l  l  e  c  t  u  a  l   c  a  p  i  t  a  l   f  o  r   c  u  s  t  o  m  i  z  e  d   technologies.  Objectively   integrate   emerging   cor  e   competencies   befor  e   process-centric  communities.   Dramatically   evisculate   holistic   innovation   rather than client-centric data. Progressively  maintain   extensive   infomediaries   via   extensible   niches.   Dramatically  disseminate   standar  dized   metrics   after   r  esour  ce-leveling   proc e  s  s  e  s  .   O  b  j  e  c  t  i  v  e  l  y   p  u  r  s  u  e   d  i  v  e  r  s  e   c  a  t  a  l  y  s  t  s   f  o  r   c  h  a  n  g  e   f  o  r   interoperable meta-services. Proactively  f  a  b  r  i  c  a  t  e   o  n  e  -  t  o  -  o  n  e   m  a  t  e  r  i  a  l  s   v  i  a   e  f  f  e  c  t  i  v  e   e  -  b  u  s  i  n  e  s  s  .   Completely synergize  scalable   e-commer  ce   rather   than   high   standar  ds   in   e-services. Assertively iterate  r  esour ce  maximizing   pr  oducts   after   leading-  edge intellectual capital. Distin c  t  i  v  e  l  y   r  e  -  e  n  g  i  n  e  e  r   r  e  v  o  l  u  t  i  o  n  a  r  y   m  e  t  a  -  s  e  r  v  i  c  e  s   a  n  d   p  r  e  m  i  u  m   architectures.  Intrinsically   incubate   intuitive   oppor  tunities   and   r  eal-time   potentialities.  Appr  opriately   communicate   one-to-one   technology   after   plug-and-play networks. Quickly  aggr egate  B2B   users   and   worldwide   potentialities.   Pr  ogr  essively   plagiarize  r  esour  ce-leveling   e-commer  ce   thr  ough   r  esour  ce-leveling   cor  e   BUSINESS PROPOSAL !   3',\n",
       " 'competencies.  Dramatically   mesh   low-risk   high-yield   alignments   befor  e   transparent e-tailers. Appropriately  empower   dynamic   leadership   skills   after   business   por  tals.   Globally  myocar  dinate   interactive   supply   chains   with   distinctive   quality   vectors.  G  l  o  b  a  l  l  y   r  e  v  o  l  u  t  i  o  n  i  z  e   g  l  o  b  a  l   s  o  u  r  c  e  s   t  h  r  o  u  g  h   i  n  t  e  r  o  p  e  r  a  b  l  e   services. Enthusiastically  m  e  s  h   l  o  n  g  -  t  e  r  m   h  i  g  h  -  i  m  p  a  c  t   i  n  f  r  a  s  t  r  u  c  t  u  r  e  s   v  i  s  -  a  -  v  i  s   efﬁcient customer service. Professionally fashion wireless leadership rather than  pr  ospective   experiences.   Energistically   myocar  dinate   clicks-and-  morta r   t  e  s  t  i  n  g   p  r  o  c  e  d  u  r  e  s   w  h  e  r  e  a  s   n  e  x  t  -  g  e  n  e  r  a  t  i  o  n   m  a  n  u  f  a  c  t  u  r  e  d   products. Dyna m  i  c  a  l  l  y   r  e  i  n  v  e  n  t   m  a  r  k  e  t  -  d  r  i  v  e  n   o  p  p  o  r  t  u  n  i  t  i  e  s   a  n  d   u  b  i  q  u  i  t  o  u  s   interfaces.  Energistically   fabricate   an   expanded   array   of   niche   markets   through robust products. Appropriately implement visionary e-services vis-a-vis strategic web-readiness. Compe l  l  i  n  g  l  y   e  m  b  r  a  c  e   e  m  p  o  w  e  r  e  d   e  -  b  u  s  i  n  e  s  s   a  f  t  e  r   u  s  e  r   f  r  i  e  n  d  l  y   intellectu a  l   c  a  p  i  t  a  l  .   I  n  t  e  r  a  c  t  i  v  e  l  y   a  c  t  u  a  l  i  z  e   f  r  o  n  t  -  e  n  d   p  r  o  c  e  s  s  e  s   w  i  t  h   effect i  v  e   c  o  n  v  e  r  g  e  n  c  e  .   S  y  n  e  r  g  i  s  t  i  c  a  l  l  y   d  e  l  i  v  e  r   p  e  r  f  o  r  m  a  n  c  e   b  a  s  e  d   methods of empowerment whereas distributed expertise. Efﬁci e  n  t  l  y   e  n  a  b  l  e   e  n  a  b  l  e  d   s  o  u  r  c  e  s   a  n  d   c  o  s  t   e  f  f  e  c  t  i  v  e   p  r  o  d  u  c  t  s  .   Compl e  t  e  l  y   s  y  n  t  h  e  s  i  z  e   p  r  i  n  c  i  p  l  e  -  c  e  n  t  e  r  e  d   i  n  f  o  r  m  a  t  i  o  n   a  f  t  e  r   e  t  h  i  c  a  l   comm u  n  i  t  i  e  s  .   E  f  ﬁ  c  i  e  n  t  l  y   i  n  n  o  v  a  t  e   o  p  e  n  -  s  o  u  r  c  e   i  n  f  r  a  s  t  r  u  c  t  u  r  e  s   v  i  a   inexpensive materials. Obje c  t  i  v  e  l  y   i  n  t  e  g  r  a  t  e   e  n  t  e  r  p  r  i  s  e  -  w  i  d  e   s  t  r  a  t  e  g  i  c   t  h  e  m  e   a  r  e  a  s   w  i  t  h   fun c  t  i  o  n  a  l  i  z  e  d   i  n  f  r  a  s  t  r  u  c  t  u  r  e  s  .   I  n  t  e  r  a  c  t  i  v  e  l  y   p  r  o  d  u  c  t  i  z  e   p  r  e  m  i  u  m   technologies  wher eas  inter  dependent   quality   vectors.   Rapaciously   utilize   enterprise experiences via 24/7 markets. Uni q  u  e  l  y   m  a  t  r  i  x   e  c  o  n  o  m  i  c  a  l  l  y   s  o  u  n  d   v  a  l  u  e   t  h  r  o  u  g  h   c  o  o  p  e  r  a  t  i  v  e   technology. Competently parallel task fully researched data and enterprise process  impr  ovements.   Collaboratively   expedite   quality   manufactur  ed   products via client-focused results. BUSINESS PROPOSAL !   4',\n",
       " 'Quickly  communicate   enabled   technology   and   tur  nkey   leadership   skills.   Uniqu e  l  y   e  n  a  b  l  e   a  c  c  u  r  a  t  e   s  u  p  p  l  y   c  h  a  i  n  s   r  a  t  h  e  r   t  h  a  n   f  r  i  c  t  i  o  n  l  e  s  s   technology.  Globally   network   focused   materials   vis-a-vis   cost   ef  fective   manufactured products. BUSINESS PROPOSAL !   5']"
      ]
     },
     "execution_count": 25,
     "metadata": {},
     "output_type": "execute_result"
    }
   ],
   "source": [
    "pdf_text"
   ]
  },
  {
   "cell_type": "code",
   "execution_count": 26,
   "id": "7a3e0512",
   "metadata": {},
   "outputs": [
    {
     "data": {
      "text/plain": [
       "'Business Proposal     The Revolution is Coming     Leverage  agile   frameworks   to   pr  ovide   a   r  obust   synopsis   for   high   level   overviews. Iterative  appr  oaches   to   corporate   strategy   foster   collaborative   thinking  to   fur  ther   the   overall   value   pr  oposition.   Organically   gr  ow   the   holistic  world   view   of   disruptive   innovation   via   workplace   diversity   and   empowerment. Bring  t  o   t  h  e   t  a  b  l  e   w  i  n  -  w  i  n   s  u  r  v  i  v  a  l   s  t  r  a  t  e  g  i  e  s   t  o   e  n  s  u  r  e   p  r  o  a  c  t  i  v  e   domination. At  the   end   of   the   day  ,   going   forwar  d,   a   new   nor  mal   that   has   evolved from generation X is on the runway heading towards a streamlined cloud  solution.   User   generated   content   in   r  eal-time   will   have   multiple   touchpoints for offshoring. Capitalize on low hanging fruit to identify a ballpark  value   added   activity   to   beta  test.   Override   the   digital   divide   with   additional   clickthr  oughs   fr  om   DevOps.  Nanotechnology   immersion   along   the   infor  mation   highway   will   close the loop on focusing solely on the bottom line. Podcasting  operational   change   management   inside   of   workﬂows   to   establish a framework. Taking seamless key performance indicators  of  ﬂine   to maximise the  long   tail.   Keeping   your   eye   on   the   ball   while   per  for  ming   a   deep  dive   on   the   star  t-up   mentality   to   derive   convergence   on   cr  oss-  platform integration. Collabor a  t  i  v  e  l  y   a  d  m  i  n  i  s  t  r  a  t  e   e  m  p  o  w  e  re  d   m  a  r  k  e  t  s   v  i  a   p  l  u  g  -  a  n  d  -  p  l  a  y   networks.  D  y  n  a  m  i  c  a  l  l  y   p  r  o  c  r  a  s  t  i  n  a  t  e   B  2  C   u  s  e  r  s   a  f  t  e  r   i  n  s  t  a  l  l  e  d   b  a  s  e   beneﬁts.  Dramatically   visualize   customer   dir  ected   convergence   without   revolutionary ROI. Efﬁciently  unleash   cr  oss-media   infor  mation   without   cr  oss-media   value.   Quickly maximize  timely   deliverables   for   r  eal-time   schemas.   Dramatically   maintain clicks-and-mortar solutions without functional solutions. BUSINESS PROPOSAL !   1'"
      ]
     },
     "execution_count": 26,
     "metadata": {},
     "output_type": "execute_result"
    }
   ],
   "source": [
    "pdf_text[0]"
   ]
  },
  {
   "cell_type": "code",
   "execution_count": 27,
   "id": "86544035",
   "metadata": {},
   "outputs": [
    {
     "data": {
      "text/plain": [
       "'Completely  synergize   r  esour  ce   taxing   r  elationships   via   pr  emier   niche   markets. Professionally  cultivate   one-to-one   customer   service   with   r  obust   ideas. Dynamically innovate resource-leveling customer service for state of the art customer service. Objectively innovate  empower ed  manufactur  ed   pr  oducts   wher  eas   parallel   platforms. Holisticly predominate extensible  testing   pr  ocedur  es   for   r  eliable   supply  c  h  a  i  n  s  .   D  r  a  m  a  t  i  c  a  l  l  y   e  n  g  a  g  e   t  o  p  -  l  i  n  e   w  e  b   s  e  r  v  i  c  e  s   v  i  s  -  a  -  v  i  s   cutting-edge deliverables. Proactively  envisioned   multimedia   based   exper  tise   and   cr  oss-media   growth strategies.  Seamlessly   visualize   quality   intellectual   capital   without   superior  collaboration   and   idea-sharing.   Holistically   pontiﬁcate   installed   base portals after maintainable products. Phosﬂuorescently  engage   worldwide   methodologies   with   web-enabled   technology.  Interactively   coor  dinate   pr  oactive   e-commer  ce   via   pr  ocess-  centric  \"outside   the   box\"   thinking.   Completely   pursue   scalable   customer   service through sustainable potentialities. Collaboratively  administrate   tur  nkey   channels   wher  eas   vir  tual   e-tailers.   Objec t  i  v  e  l  y   s  e  i  z  e   s  c  a  l  a  b  l  e   m  e  t  r  i  c  s   w  h  e  r  e  a  s   p  r  o  a  c  t  i  v  e   e  -  s  e  r  v  i  c  e  s  .   Seamlessly empower fully  r esearched  gr owth  strategies   and   inter  operable   internal or \"organic\" sources. Credibly  innovate   granular   inter  nal   or   \"organic\"   sour  ces   wher  eas   high   standard s   i  n   w  e  b  -  r  e  a  d  i  n  e  s  s  .   E  n  e  r  g  i  s  t  i  c  a  l  l  y   s  c  a  l  e   f  u  t  u  r  e  -  p  r  o  o  f   c  o  r  e   competencies  vis-a-vis   impactful   experiences.   Dramatically   synthesize   integrated schemas with optimal networks. Inte r  a  c  t  i  v  e  l  y   p  r  o  c  r  a  s  t  i  n  a  t  e   h  i  g  h  -  p  a  y  o  f  f   c  o  n  t  e  n  t   w  i  t  h  o  u  t   b  a  c  k  w  a  r  d  -  compatible  d  a  t  a  .   Q  u  i  c  k  l  y   c  u  l  t  i  v  a  t  e   o  p  t  i  m  a  l   p  r  o  c  e  s  s  e  s   a  n  d   t  a  c  t  i  c  a  l   architectures.  Completely   iterate   covalent   strategic   theme   ar  eas   via   accurate e-markets. Globally incubate  standar ds  compliant   channels   befor  e   scalable   beneﬁts.   Quic k  l  y   d  i  s  s  e  m  i  n  a  t  e   s  u  p  e  r  i  o  r   d  e  l  i  v  e  r  a  b  l  e  s   w  h  e  r  e  a  s   w  e  b  -  e  n  a  b  l  e  d   BUSINESS PROPOSAL !   2'"
      ]
     },
     "execution_count": 27,
     "metadata": {},
     "output_type": "execute_result"
    }
   ],
   "source": [
    "pdf_text[1]"
   ]
  }
 ],
 "metadata": {
  "kernelspec": {
   "display_name": "Python 3",
   "language": "python",
   "name": "python3"
  },
  "language_info": {
   "codemirror_mode": {
    "name": "ipython",
    "version": 3
   },
   "file_extension": ".py",
   "mimetype": "text/x-python",
   "name": "python",
   "nbconvert_exporter": "python",
   "pygments_lexer": "ipython3",
   "version": "3.8.8"
  }
 },
 "nbformat": 4,
 "nbformat_minor": 5
}
