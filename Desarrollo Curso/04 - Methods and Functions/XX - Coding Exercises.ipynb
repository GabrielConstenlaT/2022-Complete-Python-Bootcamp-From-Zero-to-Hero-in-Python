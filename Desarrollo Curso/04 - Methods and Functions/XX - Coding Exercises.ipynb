{
 "cells": [
  {
   "cell_type": "markdown",
   "id": "f3f8262c",
   "metadata": {},
   "source": [
    "### Coding Exercises"
   ]
  },
  {
   "cell_type": "markdown",
   "id": "31d1fc20",
   "metadata": {},
   "source": [
    "#### Functions #1: Print Hello World"
   ]
  },
  {
   "cell_type": "code",
   "execution_count": 1,
   "id": "cf11a898",
   "metadata": {},
   "outputs": [],
   "source": [
    "def myfunc_1():\n",
    "    print(\"Hello World\")"
   ]
  },
  {
   "cell_type": "code",
   "execution_count": 3,
   "id": "251f2885",
   "metadata": {},
   "outputs": [
    {
     "name": "stdout",
     "output_type": "stream",
     "text": [
      "Hello World\n"
     ]
    }
   ],
   "source": [
    "myfunc_1()"
   ]
  },
  {
   "cell_type": "markdown",
   "id": "4a261046",
   "metadata": {},
   "source": [
    "#### Functions #2: Print Hello Name"
   ]
  },
  {
   "cell_type": "code",
   "execution_count": 4,
   "id": "843ae09d",
   "metadata": {},
   "outputs": [],
   "source": [
    "def myfunc_2(name):\n",
    "    print(\"Hello {}\".format(name))"
   ]
  },
  {
   "cell_type": "code",
   "execution_count": 6,
   "id": "e176ae49",
   "metadata": {},
   "outputs": [
    {
     "name": "stdout",
     "output_type": "stream",
     "text": [
      "Hello Juan\n"
     ]
    }
   ],
   "source": [
    "myfunc_2(\"Juan\")"
   ]
  },
  {
   "cell_type": "markdown",
   "id": "22649957",
   "metadata": {},
   "source": [
    "#### Functions #3: simple Boolean"
   ]
  },
  {
   "cell_type": "markdown",
   "id": "938dfe8b",
   "metadata": {},
   "source": [
    "Define a function called myfunc that takes in a Boolean value (True or False). If True, return \"Hello\", and if False, return \"Goodbye\"."
   ]
  },
  {
   "cell_type": "code",
   "execution_count": 7,
   "id": "dd34a79e",
   "metadata": {},
   "outputs": [],
   "source": [
    "def myfunc_3(bool_value):\n",
    "    if bool_value == True:\n",
    "        return \"Hello\"\n",
    "    else:\n",
    "        return \"Goodbye\""
   ]
  },
  {
   "cell_type": "code",
   "execution_count": 9,
   "id": "f92dad7f",
   "metadata": {},
   "outputs": [
    {
     "data": {
      "text/plain": [
       "('Hello', 'Goodbye')"
      ]
     },
     "execution_count": 9,
     "metadata": {},
     "output_type": "execute_result"
    }
   ],
   "source": [
    "myfunc_3(True), myfunc_3(False)"
   ]
  },
  {
   "cell_type": "markdown",
   "id": "228c685d",
   "metadata": {},
   "source": [
    "#### Functions #4: using Booleans"
   ]
  },
  {
   "cell_type": "markdown",
   "id": "dc667bf5",
   "metadata": {},
   "source": [
    "Define a function called myfunc that takes three arguments, x,y and z. If z is True, return x. If z is False, return y."
   ]
  },
  {
   "cell_type": "code",
   "execution_count": 10,
   "id": "ce7a8d28",
   "metadata": {},
   "outputs": [],
   "source": [
    "def myfunc_4(x,y,z):\n",
    "    if z == True:\n",
    "        return x\n",
    "    else:\n",
    "        return y"
   ]
  },
  {
   "cell_type": "code",
   "execution_count": 12,
   "id": "27d2dcf0",
   "metadata": {},
   "outputs": [
    {
     "data": {
      "text/plain": [
       "('Verdadero', 'Falso')"
      ]
     },
     "execution_count": 12,
     "metadata": {},
     "output_type": "execute_result"
    }
   ],
   "source": [
    "myfunc_4(\"Verdadero\", \"Falso\", True), myfunc_4(\"Verdadero\", \"Falso\", False)"
   ]
  },
  {
   "cell_type": "markdown",
   "id": "45d3c093",
   "metadata": {},
   "source": [
    "#### Functions #5: Simple math"
   ]
  },
  {
   "cell_type": "markdown",
   "id": "d00856b6",
   "metadata": {},
   "source": [
    "Define a function called myfunc that takes in two arguments and returns their sum."
   ]
  },
  {
   "cell_type": "code",
   "execution_count": 14,
   "id": "af513c7c",
   "metadata": {},
   "outputs": [],
   "source": [
    "def myfunc_5(num1, num2):\n",
    "    return num1 + num2"
   ]
  },
  {
   "cell_type": "code",
   "execution_count": 15,
   "id": "332ea085",
   "metadata": {},
   "outputs": [
    {
     "data": {
      "text/plain": [
       "9"
      ]
     },
     "execution_count": 15,
     "metadata": {},
     "output_type": "execute_result"
    }
   ],
   "source": [
    "myfunc_5(5,4)"
   ]
  },
  {
   "cell_type": "markdown",
   "id": "2b413eb8",
   "metadata": {},
   "source": [
    "#### Functions #6: is even"
   ]
  },
  {
   "cell_type": "markdown",
   "id": "69528abc",
   "metadata": {},
   "source": [
    "Define a function called is_even that takes in one argument, and return True if the passed-in value is even, False if it is not."
   ]
  },
  {
   "cell_type": "code",
   "execution_count": 16,
   "id": "bb356f49",
   "metadata": {},
   "outputs": [],
   "source": [
    "def is_even(num):\n",
    "    if num % 2 == 0:\n",
    "        return True\n",
    "    else:\n",
    "        return False"
   ]
  },
  {
   "cell_type": "code",
   "execution_count": 18,
   "id": "cd1ac3e8",
   "metadata": {},
   "outputs": [
    {
     "data": {
      "text/plain": [
       "(True, False)"
      ]
     },
     "execution_count": 18,
     "metadata": {},
     "output_type": "execute_result"
    }
   ],
   "source": [
    "is_even(244), is_even(3)"
   ]
  },
  {
   "cell_type": "markdown",
   "id": "59670b57",
   "metadata": {},
   "source": [
    "#### Functions #7: is greater"
   ]
  },
  {
   "cell_type": "markdown",
   "id": "7c58d88f",
   "metadata": {},
   "source": [
    "Define a function called is_greater that takes in two arguments, and returns True if the first valie is greater than the second, False if it is less than or equal to the second."
   ]
  },
  {
   "cell_type": "code",
   "execution_count": 19,
   "id": "85cc219f",
   "metadata": {},
   "outputs": [],
   "source": [
    "def is_greater(num1, num2):\n",
    "    if num1 > num2:\n",
    "        return True\n",
    "    else:\n",
    "        return False"
   ]
  },
  {
   "cell_type": "code",
   "execution_count": 21,
   "id": "112ef338",
   "metadata": {},
   "outputs": [
    {
     "data": {
      "text/plain": [
       "(True, False)"
      ]
     },
     "execution_count": 21,
     "metadata": {},
     "output_type": "execute_result"
    }
   ],
   "source": [
    "is_greater(5,4), is_greater(2,7)"
   ]
  },
  {
   "cell_type": "markdown",
   "id": "43a8afb6",
   "metadata": {},
   "source": [
    "#### Functions #8: *args"
   ]
  },
  {
   "cell_type": "markdown",
   "id": "27a09613",
   "metadata": {},
   "source": [
    "Define a function called myfunc that takes in an arbitrary number of arguments, and returns the sum of those arguments."
   ]
  },
  {
   "cell_type": "code",
   "execution_count": 23,
   "id": "7d2aaf22",
   "metadata": {},
   "outputs": [],
   "source": [
    "def myfunc(*args):\n",
    "    return sum(args)"
   ]
  },
  {
   "cell_type": "code",
   "execution_count": 24,
   "id": "4508564f",
   "metadata": {},
   "outputs": [
    {
     "data": {
      "text/plain": [
       "20"
      ]
     },
     "execution_count": 24,
     "metadata": {},
     "output_type": "execute_result"
    }
   ],
   "source": [
    "myfunc(1,2,3,4,10)"
   ]
  },
  {
   "cell_type": "markdown",
   "id": "82572924",
   "metadata": {},
   "source": [
    "#### Functions #9: pick evens"
   ]
  },
  {
   "cell_type": "markdown",
   "id": "d5bc8556",
   "metadata": {},
   "source": [
    "Define a function called myfunc that takes in an arbitrary number of arguments, and returns a list containing only those arguments that are even."
   ]
  },
  {
   "cell_type": "code",
   "execution_count": 25,
   "id": "a13bdc15",
   "metadata": {},
   "outputs": [],
   "source": [
    "def myfunc(*args):\n",
    "    even_numbers = []\n",
    "    \n",
    "    for number in args:\n",
    "        if number % 2 == 0:\n",
    "            even_numbers.append(number)\n",
    "            \n",
    "    return even_numbers"
   ]
  },
  {
   "cell_type": "code",
   "execution_count": 26,
   "id": "42e13f63",
   "metadata": {},
   "outputs": [
    {
     "data": {
      "text/plain": [
       "[2, 2, 4, 6, 8, 20, 22]"
      ]
     },
     "execution_count": 26,
     "metadata": {},
     "output_type": "execute_result"
    }
   ],
   "source": [
    "myfunc(1,2,2,3,4,5,6,7,8,20,22)"
   ]
  },
  {
   "cell_type": "markdown",
   "id": "04b9b95f",
   "metadata": {},
   "source": [
    "#### Functions #10: skyline"
   ]
  },
  {
   "cell_type": "markdown",
   "id": "bbb586cf",
   "metadata": {},
   "source": [
    "Define a function called mufunc that takes in a string, and returns a matching string where every even letter is uppercase and every odd letter is lowercase."
   ]
  },
  {
   "cell_type": "code",
   "execution_count": 29,
   "id": "2d1c88bf",
   "metadata": {},
   "outputs": [],
   "source": [
    "def myfunc(word):\n",
    "    out = \"\"\n",
    "    letters = list(word)\n",
    "    \n",
    "    for index in range(len(letters)):\n",
    "        if index % 2 == 0:\n",
    "            out += letters[index].upper()\n",
    "        else:\n",
    "            out += letters[index].lower()\n",
    "            \n",
    "    return out"
   ]
  },
  {
   "cell_type": "code",
   "execution_count": 30,
   "id": "f0ec3134",
   "metadata": {},
   "outputs": [
    {
     "data": {
      "text/plain": [
       "'AnThRoPoMoRpHiSm'"
      ]
     },
     "execution_count": 30,
     "metadata": {},
     "output_type": "execute_result"
    }
   ],
   "source": [
    "myfunc(\"Anthropomorphism\")"
   ]
  }
 ],
 "metadata": {
  "kernelspec": {
   "display_name": "Python 3",
   "language": "python",
   "name": "python3"
  },
  "language_info": {
   "codemirror_mode": {
    "name": "ipython",
    "version": 3
   },
   "file_extension": ".py",
   "mimetype": "text/x-python",
   "name": "python",
   "nbconvert_exporter": "python",
   "pygments_lexer": "ipython3",
   "version": "3.8.8"
  }
 },
 "nbformat": 4,
 "nbformat_minor": 5
}
