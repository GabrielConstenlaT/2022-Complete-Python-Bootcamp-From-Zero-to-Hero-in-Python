{
 "cells": [
  {
   "cell_type": "code",
   "execution_count": 4,
   "id": "ce71ed47",
   "metadata": {},
   "outputs": [
    {
     "name": "stdout",
     "output_type": "stream",
     "text": [
      "The current value of x is 0\n",
      "The current value of x is 1\n",
      "The current value of x is 2\n",
      "The current value of x is 3\n",
      "The current value of x is 4\n",
      "X is not less than 5\n"
     ]
    }
   ],
   "source": [
    "x = 0\n",
    "\n",
    "while x < 5:\n",
    "    print(f\"The current value of x is {x}\")\n",
    "    x += 1\n",
    "else:\n",
    "    print(\"X is not less than 5\")"
   ]
  },
  {
   "cell_type": "markdown",
   "id": "07557a44",
   "metadata": {},
   "source": [
    "#### break, continue, pass"
   ]
  },
  {
   "cell_type": "markdown",
   "id": "a4a1ca24",
   "metadata": {},
   "source": [
    "Keywords que sirven para los loops. Podemos utilizar break, continue, y pass para añadir funcionalidades adicionales para diversos casos. Estas tres sentencias están definidas así:\n",
    "* break: Breaks out the current closest enclosing loop (detiene el loop)\n",
    "* continue: Goes to the top of the closest enclosing loop (pasa \"por encima\" de la condición que se coloca)\n",
    "* pass: Does nothing at all (No hace nada, evita errores)\n"
   ]
  },
  {
   "cell_type": "code",
   "execution_count": 7,
   "id": "7d273e1f",
   "metadata": {},
   "outputs": [
    {
     "name": "stdout",
     "output_type": "stream",
     "text": [
      "end of my script\n"
     ]
    }
   ],
   "source": [
    "x = [1,2,3]\n",
    "\n",
    "for item in x:\n",
    "    #comment\n",
    "    pass\n",
    "\n",
    "print(\"end of my script\")"
   ]
  },
  {
   "cell_type": "code",
   "execution_count": 8,
   "id": "3f5e60f5",
   "metadata": {},
   "outputs": [],
   "source": [
    "mystring = \"Sammy\""
   ]
  },
  {
   "cell_type": "code",
   "execution_count": 9,
   "id": "9893d84f",
   "metadata": {},
   "outputs": [
    {
     "name": "stdout",
     "output_type": "stream",
     "text": [
      "S\n",
      "m\n",
      "m\n",
      "y\n"
     ]
    }
   ],
   "source": [
    "for letter in mystring:\n",
    "    if letter == \"a\": #En este caso si la leta es \"a\" el loop continuará y no la tomará en cuenta\n",
    "        continue\n",
    "    print(letter)"
   ]
  },
  {
   "cell_type": "code",
   "execution_count": 10,
   "id": "f88c9959",
   "metadata": {},
   "outputs": [
    {
     "name": "stdout",
     "output_type": "stream",
     "text": [
      "S\n"
     ]
    }
   ],
   "source": [
    "for letter in mystring:\n",
    "    if letter == \"a\": #En este caso si la leta es \"a\" el loop continuará y no la tomará en cuenta\n",
    "        break\n",
    "    print(letter)"
   ]
  },
  {
   "cell_type": "code",
   "execution_count": 11,
   "id": "6c49c2db",
   "metadata": {},
   "outputs": [
    {
     "name": "stdout",
     "output_type": "stream",
     "text": [
      "0\n",
      "1\n"
     ]
    }
   ],
   "source": [
    "x = 0\n",
    "\n",
    "while x < 5:\n",
    "    if x == 2:\n",
    "        break\n",
    "    print(x)\n",
    "    x += 1"
   ]
  }
 ],
 "metadata": {
  "kernelspec": {
   "display_name": "Python 3",
   "language": "python",
   "name": "python3"
  },
  "language_info": {
   "codemirror_mode": {
    "name": "ipython",
    "version": 3
   },
   "file_extension": ".py",
   "mimetype": "text/x-python",
   "name": "python",
   "nbconvert_exporter": "python",
   "pygments_lexer": "ipython3",
   "version": "3.8.8"
  }
 },
 "nbformat": 4,
 "nbformat_minor": 5
}
