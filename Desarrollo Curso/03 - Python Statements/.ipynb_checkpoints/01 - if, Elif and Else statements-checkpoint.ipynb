{
 "cells": [
  {
   "cell_type": "code",
   "execution_count": 3,
   "id": "be3292d6",
   "metadata": {},
   "outputs": [
    {
     "name": "stdout",
     "output_type": "stream",
     "text": [
      "It's True!\n"
     ]
    }
   ],
   "source": [
    "if True:\n",
    "    print(\"It's True!\")"
   ]
  },
  {
   "cell_type": "code",
   "execution_count": 4,
   "id": "c00be5df",
   "metadata": {},
   "outputs": [
    {
     "name": "stdout",
     "output_type": "stream",
     "text": [
      "It's True!\n"
     ]
    }
   ],
   "source": [
    "if 3 > 2:\n",
    "    print(\"It's True!\")"
   ]
  },
  {
   "cell_type": "code",
   "execution_count": 7,
   "id": "43cf3ea6",
   "metadata": {},
   "outputs": [
    {
     "name": "stdout",
     "output_type": "stream",
     "text": [
      "I'm not hungry\n"
     ]
    }
   ],
   "source": [
    "hungry = False\n",
    "\n",
    "if hungry:\n",
    "    print(\"Feed Me!\")\n",
    "else:\n",
    "    print(\"I'm not hungry\")"
   ]
  },
  {
   "cell_type": "code",
   "execution_count": 10,
   "id": "76dcc463",
   "metadata": {},
   "outputs": [
    {
     "name": "stdout",
     "output_type": "stream",
     "text": [
      "Money is cool\n"
     ]
    }
   ],
   "source": [
    "loc = \"Bank\"\n",
    "\n",
    "if loc == \"Auto Shop\":\n",
    "    print(\"Cars are cool\")\n",
    "elif loc == \"Bank\":\n",
    "    print(\"Money is cool\")\n",
    "elif loc == \"Store\":\n",
    "    print(\"Welcome to the store\")\n",
    "else:\n",
    "    print(\"I do not know much\")"
   ]
  },
  {
   "cell_type": "code",
   "execution_count": 11,
   "id": "e4b286c3",
   "metadata": {},
   "outputs": [
    {
     "name": "stdout",
     "output_type": "stream",
     "text": [
      "Hello Sammy\n"
     ]
    }
   ],
   "source": [
    "name = \"Sammy\"\n",
    "\n",
    "if name == \"Frankie\":\n",
    "    print(\"Hello Frankie\")\n",
    "elif name == \"Sammy\":\n",
    "    print(\"Hello Sammy\")\n",
    "else:\n",
    "    print(\"What is your name?\")"
   ]
  }
 ],
 "metadata": {
  "kernelspec": {
   "display_name": "Python 3",
   "language": "python",
   "name": "python3"
  },
  "language_info": {
   "codemirror_mode": {
    "name": "ipython",
    "version": 3
   },
   "file_extension": ".py",
   "mimetype": "text/x-python",
   "name": "python",
   "nbconvert_exporter": "python",
   "pygments_lexer": "ipython3",
   "version": "3.8.8"
  }
 },
 "nbformat": 4,
 "nbformat_minor": 5
}
