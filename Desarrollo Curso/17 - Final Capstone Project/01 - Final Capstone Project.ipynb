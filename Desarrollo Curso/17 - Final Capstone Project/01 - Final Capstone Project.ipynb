{
 "cells": [
  {
   "cell_type": "markdown",
   "metadata": {
    "collapsed": true
   },
   "source": [
    "# Final Capstone Projects\n",
    "\n",
    "Please refer to the [**Final Capstone Projects**](http://nbviewer.jupyter.org/github/jmportilla/Complete-Python-Bootcamp/tree/master/Final%20Capstone%20Projects/) folder to get all the info on final capstone project ideas and possible solutions!"
   ]
  },
  {
   "cell_type": "markdown",
   "metadata": {},
   "source": [
    "### 1.- Coin Flip Simulation"
   ]
  },
  {
   "cell_type": "code",
   "execution_count": 23,
   "metadata": {},
   "outputs": [],
   "source": [
    "import random"
   ]
  },
  {
   "cell_type": "code",
   "execution_count": 42,
   "metadata": {},
   "outputs": [
    {
     "name": "stdout",
     "output_type": "stream",
     "text": [
      "How many times do you want to do a coin flip?: 5\n",
      "Number of coin flips: 5\n",
      "Number of Heads: 1\n",
      "Number of Tails: 4\n"
     ]
    }
   ],
   "source": [
    "repeat = int(input(\"How many times do you want to do a coin flip?: \"))\n",
    "\n",
    "results = {\n",
    "    \"Heads\": 0,\n",
    "    \"Tails\": 0\n",
    "}\n",
    "\n",
    "for i in range(repeat):\n",
    "    x = random.randint(1,2)\n",
    "    \n",
    "    if x == 1:\n",
    "        results[\"Heads\"] += 1\n",
    "    else:\n",
    "        results[\"Tails\"] += 1\n",
    "\n",
    "print(f\"Number of coin flips: {repeat}\")\n",
    "print(\"Number of Heads: {}\".format(results[\"Heads\"]))\n",
    "print(\"Number of Tails: {}\".format(results[\"Tails\"]))\n",
    "   "
   ]
  },
  {
   "cell_type": "code",
   "execution_count": null,
   "metadata": {},
   "outputs": [],
   "source": []
  }
 ],
 "metadata": {
  "kernelspec": {
   "display_name": "Python 3",
   "language": "python",
   "name": "python3"
  },
  "language_info": {
   "codemirror_mode": {
    "name": "ipython",
    "version": 3
   },
   "file_extension": ".py",
   "mimetype": "text/x-python",
   "name": "python",
   "nbconvert_exporter": "python",
   "pygments_lexer": "ipython3",
   "version": "3.8.8"
  }
 },
 "nbformat": 4,
 "nbformat_minor": 1
}
