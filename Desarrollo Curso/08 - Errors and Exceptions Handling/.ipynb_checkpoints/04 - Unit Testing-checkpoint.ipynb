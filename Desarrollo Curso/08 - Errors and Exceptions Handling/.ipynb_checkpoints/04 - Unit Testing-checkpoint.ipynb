{
 "cells": [
  {
   "cell_type": "markdown",
   "id": "db14e29d",
   "metadata": {},
   "source": [
    "### pylint"
   ]
  },
  {
   "cell_type": "markdown",
   "id": "23409798",
   "metadata": {},
   "source": [
    "pylint tests for style as well as some very basic program logic"
   ]
  },
  {
   "cell_type": "markdown",
   "id": "03412e5f",
   "metadata": {},
   "source": [
    "Installation of `pylint`"
   ]
  },
  {
   "cell_type": "code",
   "execution_count": 1,
   "id": "d6035040",
   "metadata": {
    "scrolled": false
   },
   "outputs": [
    {
     "name": "stdout",
     "output_type": "stream",
     "text": [
      "Requirement already satisfied: pylint in c:\\users\\gabri\\anaconda3\\lib\\site-packages (2.7.4)\n",
      "Requirement already satisfied: colorama in c:\\users\\gabri\\anaconda3\\lib\\site-packages (from pylint) (0.4.4)\n",
      "Requirement already satisfied: astroid<2.7,>=2.5.2 in c:\\users\\gabri\\anaconda3\\lib\\site-packages (from pylint) (2.6.6)\n",
      "Requirement already satisfied: toml>=0.7.1 in c:\\users\\gabri\\anaconda3\\lib\\site-packages (from pylint) (0.10.2)\n",
      "Requirement already satisfied: isort<6,>=4.2.5 in c:\\users\\gabri\\anaconda3\\lib\\site-packages (from pylint) (5.8.0)\n",
      "Requirement already satisfied: mccabe<0.7,>=0.6 in c:\\users\\gabri\\anaconda3\\lib\\site-packages (from pylint) (0.6.1)\n",
      "Requirement already satisfied: wrapt<1.13,>=1.11 in c:\\users\\gabri\\anaconda3\\lib\\site-packages (from astroid<2.7,>=2.5.2->pylint) (1.12.1)\n",
      "Requirement already satisfied: setuptools>=20.0 in c:\\users\\gabri\\anaconda3\\lib\\site-packages (from astroid<2.7,>=2.5.2->pylint) (52.0.0.post20210125)\n",
      "Requirement already satisfied: lazy-object-proxy>=1.4.0 in c:\\users\\gabri\\anaconda3\\lib\\site-packages (from astroid<2.7,>=2.5.2->pylint) (1.6.0)\n"
     ]
    }
   ],
   "source": [
    "!pip install pylint"
   ]
  },
  {
   "cell_type": "code",
   "execution_count": 3,
   "id": "c93a58b7",
   "metadata": {},
   "outputs": [
    {
     "name": "stdout",
     "output_type": "stream",
     "text": [
      "Writing simple1.py\n"
     ]
    }
   ],
   "source": [
    "%%writefile simple1.py\n",
    "a = 1\n",
    "b = 2\n",
    "print(a)\n",
    "print(B)"
   ]
  },
  {
   "cell_type": "markdown",
   "id": "2f151ef6",
   "metadata": {},
   "source": [
    "Vamos a comprobar el código usando pylint"
   ]
  },
  {
   "cell_type": "code",
   "execution_count": 9,
   "id": "182a5456",
   "metadata": {
    "scrolled": true
   },
   "outputs": [
    {
     "name": "stdout",
     "output_type": "stream",
     "text": [
      "\n",
      "\n",
      "\n",
      "Report\n",
      "\n",
      "======\n",
      "\n",
      "6 statements analysed.\n",
      "\n",
      "\n",
      "\n",
      "Statistics by type\n",
      "\n",
      "------------------\n",
      "\n",
      "\n",
      "+---------+-------+-----------+-----------+------------+---------+\n",
      "|type     |number |old number |difference |%documented |%badname |\n",
      "+=========+=======+===========+===========+============+=========+\n",
      "|module   |1      |NC         |NC         |100.00      |0.00     |\n",
      "+---------+-------+-----------+-----------+------------+---------+\n",
      "|class    |0      |NC         |NC         |0           |0        |\n",
      "+---------+-------+-----------+-----------+------------+---------+\n",
      "|method   |0      |NC         |NC         |0           |0        |\n",
      "+---------+-------+-----------+-----------+------------+---------+\n",
      "|function |1      |NC         |NC         |100.00      |0.00     |\n",
      "+---------+-------+-----------+-----------+------------+---------+\n",
      "\n",
      "\n",
      "\n",
      "\n",
      "\n",
      "\n",
      "Raw metrics\n",
      "\n",
      "-----------\n",
      "\n",
      "\n",
      "+----------+-------+------+---------+-----------+\n",
      "|type      |number |%     |previous |difference |\n",
      "+==========+=======+======+=========+===========+\n",
      "|code      |7      |43.75 |NC       |NC         |\n",
      "+----------+-------+------+---------+-----------+\n",
      "|docstring |6      |37.50 |NC       |NC         |\n",
      "+----------+-------+------+---------+-----------+\n",
      "|comment   |0      |0.00  |NC       |NC         |\n",
      "+----------+-------+------+---------+-----------+\n",
      "|empty     |3      |18.75 |NC       |NC         |\n",
      "+----------+-------+------+---------+-----------+\n",
      "\n",
      "\n",
      "\n",
      "\n",
      "\n",
      "\n",
      "Duplication\n",
      "\n",
      "-----------\n",
      "\n",
      "\n",
      "+-------------------------+------+---------+-----------+\n",
      "|                         |now   |previous |difference |\n",
      "+=========================+======+=========+===========+\n",
      "|nb duplicated lines      |0     |NC       |NC         |\n",
      "+-------------------------+------+---------+-----------+\n",
      "|percent duplicated lines |0.000 |NC       |NC         |\n",
      "+-------------------------+------+---------+-----------+\n",
      "\n",
      "\n",
      "\n",
      "\n",
      "\n",
      "\n",
      "Messages by category\n",
      "\n",
      "--------------------\n",
      "\n",
      "\n",
      "+-----------+-------+---------+-----------+\n",
      "|type       |number |previous |difference |\n",
      "+===========+=======+=========+===========+\n",
      "|convention |0      |NC       |NC         |\n",
      "+-----------+-------+---------+-----------+\n",
      "|refactor   |0      |NC       |NC         |\n",
      "+-----------+-------+---------+-----------+\n",
      "|warning    |0      |NC       |NC         |\n",
      "+-----------+-------+---------+-----------+\n",
      "|error      |0      |NC       |NC         |\n",
      "+-----------+-------+---------+-----------+\n",
      "\n",
      "\n",
      "\n",
      "\n",
      "\n",
      "\n",
      "\n",
      "--------------------------------------------------------------------\n",
      "\n",
      "Your code has been rated at 10.00/10 (previous run: 10.00/10, +0.00)\n",
      "\n",
      "\n",
      "\n"
     ]
    }
   ],
   "source": [
    "! pylint simple1.py -r y"
   ]
  },
  {
   "cell_type": "markdown",
   "id": "a337e7b9",
   "metadata": {},
   "source": [
    "Pylint first lists some styling issues - it would like to see an extra newline at the end, modules and function definitions should have descriptive docstrings, and single characters are a poor choice for variable names.\n",
    "\n",
    "More importantly, however, pylint identified an error in the program - a variable called before assignment. This needs fixing.\n",
    "\n",
    "Note that pylint scored our program a negative 12.5 out of 10. Let's try to improve that!"
   ]
  },
  {
   "cell_type": "code",
   "execution_count": 13,
   "id": "51660ed1",
   "metadata": {},
   "outputs": [
    {
     "name": "stdout",
     "output_type": "stream",
     "text": [
      "Overwriting simple1.py\n"
     ]
    }
   ],
   "source": [
    "%%writefile simple1.py\n",
    "\"\"\"\n",
    "A simple script\n",
    "\"\"\"\n",
    "\n",
    "def myfunc():\n",
    "    \"\"\"\n",
    "    A simple function\n",
    "    \"\"\"\n",
    "    first = 1\n",
    "    second = 2\n",
    "    print(first)\n",
    "    print(second)\n",
    "\n",
    "myfunc()"
   ]
  },
  {
   "cell_type": "code",
   "execution_count": 14,
   "id": "5f753845",
   "metadata": {
    "scrolled": true
   },
   "outputs": [
    {
     "name": "stdout",
     "output_type": "stream",
     "text": [
      "\n",
      "\n",
      "\n",
      "Report\n",
      "\n",
      "======\n",
      "\n",
      "6 statements analysed.\n",
      "\n",
      "\n",
      "\n",
      "Statistics by type\n",
      "\n",
      "------------------\n",
      "\n",
      "\n",
      "+---------+-------+-----------+-----------+------------+---------+\n",
      "|type     |number |old number |difference |%documented |%badname |\n",
      "+=========+=======+===========+===========+============+=========+\n",
      "|module   |1      |NC         |NC         |100.00      |0.00     |\n",
      "+---------+-------+-----------+-----------+------------+---------+\n",
      "|class    |0      |NC         |NC         |0           |0        |\n",
      "+---------+-------+-----------+-----------+------------+---------+\n",
      "|method   |0      |NC         |NC         |0           |0        |\n",
      "+---------+-------+-----------+-----------+------------+---------+\n",
      "|function |1      |NC         |NC         |100.00      |0.00     |\n",
      "+---------+-------+-----------+-----------+------------+---------+\n",
      "\n",
      "\n",
      "\n",
      "\n",
      "\n",
      "\n",
      "Raw metrics\n",
      "\n",
      "-----------\n",
      "\n",
      "\n",
      "+----------+-------+------+---------+-----------+\n",
      "|type      |number |%     |previous |difference |\n",
      "+==========+=======+======+=========+===========+\n",
      "|code      |7      |43.75 |NC       |NC         |\n",
      "+----------+-------+------+---------+-----------+\n",
      "|docstring |6      |37.50 |NC       |NC         |\n",
      "+----------+-------+------+---------+-----------+\n",
      "|comment   |0      |0.00  |NC       |NC         |\n",
      "+----------+-------+------+---------+-----------+\n",
      "|empty     |3      |18.75 |NC       |NC         |\n",
      "+----------+-------+------+---------+-----------+\n",
      "\n",
      "\n",
      "\n",
      "\n",
      "\n",
      "\n",
      "Duplication\n",
      "\n",
      "-----------\n",
      "\n",
      "\n",
      "+-------------------------+------+---------+-----------+\n",
      "|                         |now   |previous |difference |\n",
      "+=========================+======+=========+===========+\n",
      "|nb duplicated lines      |0     |NC       |NC         |\n",
      "+-------------------------+------+---------+-----------+\n",
      "|percent duplicated lines |0.000 |NC       |NC         |\n",
      "+-------------------------+------+---------+-----------+\n",
      "\n",
      "\n",
      "\n",
      "\n",
      "\n",
      "\n",
      "Messages by category\n",
      "\n",
      "--------------------\n",
      "\n",
      "\n",
      "+-----------+-------+---------+-----------+\n",
      "|type       |number |previous |difference |\n",
      "+===========+=======+=========+===========+\n",
      "|convention |0      |NC       |NC         |\n",
      "+-----------+-------+---------+-----------+\n",
      "|refactor   |0      |NC       |NC         |\n",
      "+-----------+-------+---------+-----------+\n",
      "|warning    |0      |NC       |NC         |\n",
      "+-----------+-------+---------+-----------+\n",
      "|error      |0      |NC       |NC         |\n",
      "+-----------+-------+---------+-----------+\n",
      "\n",
      "\n",
      "\n",
      "\n",
      "\n",
      "\n",
      "\n",
      "--------------------------------------------------------------------\n",
      "\n",
      "Your code has been rated at 10.00/10 (previous run: 10.00/10, +0.00)\n",
      "\n",
      "\n",
      "\n"
     ]
    }
   ],
   "source": [
    "!pylint simple1.py -r y"
   ]
  },
  {
   "cell_type": "markdown",
   "id": "80f6a4d7",
   "metadata": {},
   "source": [
    "### unittest"
   ]
  },
  {
   "cell_type": "markdown",
   "id": "3d5efe71",
   "metadata": {},
   "source": [
    "`unittest` lets you write your own test programs. The goal is to send a specific set of data to your program, and analyze the returned results against an expected result. \n",
    "\n",
    "Let's generate a simple script that capitalizes words in a given string. We'll call it **cap.py**."
   ]
  },
  {
   "cell_type": "code",
   "execution_count": 25,
   "id": "d92f2cf2",
   "metadata": {},
   "outputs": [
    {
     "name": "stdout",
     "output_type": "stream",
     "text": [
      "Overwriting cap.py\n"
     ]
    }
   ],
   "source": [
    "%%writefile cap.py\n",
    "\n",
    "def cap_text(text):\n",
    "    return text.title()"
   ]
  },
  {
   "cell_type": "markdown",
   "id": "c3a1d74e",
   "metadata": {},
   "source": [
    "Now we'll write a test script. We can call it whatever we want, but **test_cap.py** seems an obvious choice.\n",
    "\n",
    "When writing test functions, it's best to go from simple to complex, as each function will be run in order. Here we'll test simple, one-word strings, followed by a test of multiple word strings."
   ]
  },
  {
   "cell_type": "code",
   "execution_count": 23,
   "id": "ac768075",
   "metadata": {},
   "outputs": [
    {
     "name": "stdout",
     "output_type": "stream",
     "text": [
      "Overwriting test_cap.py\n"
     ]
    }
   ],
   "source": [
    "%%writefile test_cap.py\n",
    "import unittest\n",
    "import cap #archivo creado anteriormente\n",
    "\n",
    "class Testcap(unittest.TestCase):\n",
    "    \n",
    "    def test_one_word(self):\n",
    "        text = \"python\"\n",
    "        result = cap.cap_text(text)\n",
    "        self.assertEqual(result, \"Python\")\n",
    "        \n",
    "    def test_multiple_words(self):\n",
    "        text = \"monty python\"\n",
    "        result = cap.cap_text(text)\n",
    "        self.assertEqual(result, \"Monty Python\")\n",
    "\n",
    "if __name__ == \"__main__\":\n",
    "    unittest.main()"
   ]
  },
  {
   "cell_type": "code",
   "execution_count": 26,
   "id": "07244894",
   "metadata": {},
   "outputs": [
    {
     "name": "stderr",
     "output_type": "stream",
     "text": [
      "..\n",
      "----------------------------------------------------------------------\n",
      "Ran 2 tests in 0.000s\n",
      "\n",
      "OK\n"
     ]
    }
   ],
   "source": [
    "!python test_cap.py"
   ]
  }
 ],
 "metadata": {
  "kernelspec": {
   "display_name": "Python 3",
   "language": "python",
   "name": "python3"
  },
  "language_info": {
   "codemirror_mode": {
    "name": "ipython",
    "version": 3
   },
   "file_extension": ".py",
   "mimetype": "text/x-python",
   "name": "python",
   "nbconvert_exporter": "python",
   "pygments_lexer": "ipython3",
   "version": "3.8.8"
  }
 },
 "nbformat": 4,
 "nbformat_minor": 5
}
