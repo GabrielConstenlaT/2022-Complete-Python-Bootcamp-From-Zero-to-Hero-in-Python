{
 "cells": [
  {
   "cell_type": "markdown",
   "id": "f0ac2593",
   "metadata": {},
   "source": [
    "### Tuples"
   ]
  },
  {
   "cell_type": "markdown",
   "id": "7d437145",
   "metadata": {},
   "source": [
    "Las tuplas son similares a las listas, pero tienen una diferencia clave, la **inmutabilidad**. Una vez que un elemento fue añadido a una tupla, ya no puede ser reasingado. Las tuplas utilizan paréntesis: (1,2,3)"
   ]
  },
  {
   "cell_type": "code",
   "execution_count": 1,
   "id": "bd09d417",
   "metadata": {},
   "outputs": [],
   "source": [
    "t = (1,2,3)"
   ]
  },
  {
   "cell_type": "code",
   "execution_count": 2,
   "id": "1917a89a",
   "metadata": {},
   "outputs": [],
   "source": [
    "mylist = [1,2,3]"
   ]
  },
  {
   "cell_type": "code",
   "execution_count": 3,
   "id": "bd35f9a2",
   "metadata": {},
   "outputs": [
    {
     "data": {
      "text/plain": [
       "tuple"
      ]
     },
     "execution_count": 3,
     "metadata": {},
     "output_type": "execute_result"
    }
   ],
   "source": [
    "type(t)"
   ]
  },
  {
   "cell_type": "code",
   "execution_count": 4,
   "id": "f0527193",
   "metadata": {},
   "outputs": [
    {
     "data": {
      "text/plain": [
       "list"
      ]
     },
     "execution_count": 4,
     "metadata": {},
     "output_type": "execute_result"
    }
   ],
   "source": [
    "type(mylist)"
   ]
  },
  {
   "cell_type": "code",
   "execution_count": 5,
   "id": "a0c50f02",
   "metadata": {},
   "outputs": [
    {
     "data": {
      "text/plain": [
       "3"
      ]
     },
     "execution_count": 5,
     "metadata": {},
     "output_type": "execute_result"
    }
   ],
   "source": [
    "len(t)"
   ]
  },
  {
   "cell_type": "code",
   "execution_count": 6,
   "id": "d3a18447",
   "metadata": {},
   "outputs": [
    {
     "data": {
      "text/plain": [
       "3"
      ]
     },
     "execution_count": 6,
     "metadata": {},
     "output_type": "execute_result"
    }
   ],
   "source": [
    "len(mylist)"
   ]
  },
  {
   "cell_type": "code",
   "execution_count": 7,
   "id": "13864349",
   "metadata": {},
   "outputs": [
    {
     "data": {
      "text/plain": [
       "1"
      ]
     },
     "execution_count": 7,
     "metadata": {},
     "output_type": "execute_result"
    }
   ],
   "source": [
    "t[0]"
   ]
  },
  {
   "cell_type": "markdown",
   "id": "c5dff4be",
   "metadata": {},
   "source": [
    "Las tuplas tienen sólo 2 métodos \".count()\" y \".index()\""
   ]
  },
  {
   "cell_type": "code",
   "execution_count": 8,
   "id": "b80f5a86",
   "metadata": {},
   "outputs": [],
   "source": [
    "t = (\"a\", \"a\", \"b\")"
   ]
  },
  {
   "cell_type": "code",
   "execution_count": 9,
   "id": "971d779e",
   "metadata": {},
   "outputs": [
    {
     "data": {
      "text/plain": [
       "2"
      ]
     },
     "execution_count": 9,
     "metadata": {},
     "output_type": "execute_result"
    }
   ],
   "source": [
    "t.count(\"a\")"
   ]
  },
  {
   "cell_type": "code",
   "execution_count": 10,
   "id": "bc7a1c44",
   "metadata": {},
   "outputs": [
    {
     "data": {
      "text/plain": [
       "0"
      ]
     },
     "execution_count": 10,
     "metadata": {},
     "output_type": "execute_result"
    }
   ],
   "source": [
    "t.index(\"a\") #devuelve la primera vez que aparece en la tupla"
   ]
  },
  {
   "cell_type": "code",
   "execution_count": 11,
   "id": "0c7d4102",
   "metadata": {},
   "outputs": [
    {
     "data": {
      "text/plain": [
       "2"
      ]
     },
     "execution_count": 11,
     "metadata": {},
     "output_type": "execute_result"
    }
   ],
   "source": [
    "t.index(\"b\")"
   ]
  },
  {
   "cell_type": "code",
   "execution_count": 12,
   "id": "8139f626",
   "metadata": {},
   "outputs": [
    {
     "data": {
      "text/plain": [
       "('a', 'a', 'b')"
      ]
     },
     "execution_count": 12,
     "metadata": {},
     "output_type": "execute_result"
    }
   ],
   "source": [
    "t"
   ]
  },
  {
   "cell_type": "code",
   "execution_count": 13,
   "id": "f9bd1710",
   "metadata": {},
   "outputs": [
    {
     "data": {
      "text/plain": [
       "[1, 2, 3]"
      ]
     },
     "execution_count": 13,
     "metadata": {},
     "output_type": "execute_result"
    }
   ],
   "source": [
    "mylist"
   ]
  },
  {
   "cell_type": "code",
   "execution_count": 14,
   "id": "9a6a97b3",
   "metadata": {},
   "outputs": [],
   "source": [
    "mylist[0] = \"NEW\""
   ]
  },
  {
   "cell_type": "code",
   "execution_count": 15,
   "id": "13ad864c",
   "metadata": {},
   "outputs": [
    {
     "data": {
      "text/plain": [
       "['NEW', 2, 3]"
      ]
     },
     "execution_count": 15,
     "metadata": {},
     "output_type": "execute_result"
    }
   ],
   "source": [
    "mylist"
   ]
  },
  {
   "cell_type": "code",
   "execution_count": 16,
   "id": "3e49ce91",
   "metadata": {},
   "outputs": [
    {
     "ename": "TypeError",
     "evalue": "'tuple' object does not support item assignment",
     "output_type": "error",
     "traceback": [
      "\u001b[1;31m---------------------------------------------------------------------------\u001b[0m",
      "\u001b[1;31mTypeError\u001b[0m                                 Traceback (most recent call last)",
      "\u001b[1;32m<ipython-input-16-f97ddc837ffd>\u001b[0m in \u001b[0;36m<module>\u001b[1;34m\u001b[0m\n\u001b[1;32m----> 1\u001b[1;33m \u001b[0mt\u001b[0m\u001b[1;33m[\u001b[0m\u001b[1;36m0\u001b[0m\u001b[1;33m]\u001b[0m \u001b[1;33m=\u001b[0m \u001b[1;34m\"NEW\"\u001b[0m\u001b[1;33m\u001b[0m\u001b[1;33m\u001b[0m\u001b[0m\n\u001b[0m",
      "\u001b[1;31mTypeError\u001b[0m: 'tuple' object does not support item assignment"
     ]
    }
   ],
   "source": [
    "t[0] = \"NEW\""
   ]
  }
 ],
 "metadata": {
  "kernelspec": {
   "display_name": "Python 3",
   "language": "python",
   "name": "python3"
  },
  "language_info": {
   "codemirror_mode": {
    "name": "ipython",
    "version": 3
   },
   "file_extension": ".py",
   "mimetype": "text/x-python",
   "name": "python",
   "nbconvert_exporter": "python",
   "pygments_lexer": "ipython3",
   "version": "3.8.8"
  }
 },
 "nbformat": 4,
 "nbformat_minor": 5
}
